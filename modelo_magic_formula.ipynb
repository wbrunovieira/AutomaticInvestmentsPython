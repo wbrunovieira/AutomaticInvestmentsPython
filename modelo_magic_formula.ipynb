{
 "cells": [
  {
   "cell_type": "markdown",
   "id": "d57bc875-9e9a-47eb-99b3-de9e6c96a2e4",
   "metadata": {},
   "source": [
    "# Mecanismo de Investimento Automático: Modelo de Investimento Magic Formula\n",
    "\n",
    "* O que é um modelo de investimento?\n",
    "* O que é um backtest?\n",
    "* O que é Factor Investing?\n",
    "    * Análise Fundamentalista Sistematizada\n",
    "    * Blackrock, AQR...\n",
    "* O que é o Fator Valor? E Fator Rentabilidade?\n",
    "* EV/EBIT e ROIC\n",
    "\n",
    "------\n",
    "\n",
    "### Passo a passo:\n",
    "\n",
    "   **Passo 1** - Importar os módulos e bibliotecas.\n",
    "   \n",
    "   **Passo 2** - Baixar os dados disponibilizados.\n",
    "   \n",
    "   **Passo 3** - Pegar as datas que iremos balancear a carteira. \n",
    "   \n",
    "   **Passo 4** - Filtrar  a liquidez.\n",
    "   \n",
    "   **Passo 5** - Criar o ranking dos indicadores.\n",
    "   \n",
    "   **Passo 6** - Criar as carteiras. \n",
    "   \n",
    "   **Passo 7** - Calcular a rentabilidade por carteira.\n",
    "   \n",
    "   **Passo 8** - Calcular a rentabilidade do modelo.\n",
    "\n",
    "   **Passo 9** - Calcular a rentabilidade do ibovespa no mesmo período.\n",
    "\n",
    "   **Passo 10** - Observar resultados de retorno.\n",
    "\n",
    "   **Passo 11** - Otimizar nosso modelo com outros indicadores. \n",
    "\n",
    "   **Passo 12** - Observar métricas de risco, janelas móveis de retorno, eventos de estresse...\n",
    "\n",
    "   ****\n",
    "   \n",
    "   \n",
    "-------------------"
   ]
  },
  {
   "cell_type": "markdown",
   "id": "e5af3725-d0c5-42d9-ab60-fabef48ee1fa",
   "metadata": {},
   "source": [
    "# Passo 1: Importando os módulos necessários"
   ]
  },
  {
   "cell_type": "code",
   "execution_count": null,
   "id": "c088661a-a3ee-4053-bf89-87d17943a804",
   "metadata": {},
   "outputs": [],
   "source": [
    "!pip install quantstats"
   ]
  },
  {
   "cell_type": "code",
   "execution_count": null,
   "id": "d2f51535-f08e-484c-9bb7-b998467840b9",
   "metadata": {},
   "outputs": [],
   "source": [
    "import pandas as pd\n",
    "import quantstats as qs"
   ]
  },
  {
   "cell_type": "markdown",
   "id": "9549bde1-da30-4a9b-9eeb-ab3f9ca76a32",
   "metadata": {},
   "source": [
    "# Passo 2: Baixar os dados dispobinilizados."
   ]
  },
  {
   "cell_type": "code",
   "execution_count": null,
   "id": "4e482b37-85c7-421d-8111-963aa47e6718",
   "metadata": {},
   "outputs": [],
   "source": [
    "dados_empresas = pd.read_csv(\"dados_empresas.csv\")\n",
    "\n",
    "dados_empresas"
   ]
  },
  {
   "cell_type": "markdown",
   "id": "7e91af17-3165-4700-b30a-772ac46641ee",
   "metadata": {},
   "source": [
    "# Passo 3: Calcular os retornos mensais das empresas."
   ]
  },
  {
   "cell_type": "code",
   "execution_count": null,
   "id": "4a98161f-ff4d-4179-a7b4-f7176e679b4b",
   "metadata": {},
   "outputs": [],
   "source": [
    "dados_empresas[\"retorno_mensal\"] = dados_empresas.groupby(\"ticker\")[\"preco_fechamento_ajustado\"].pct_change()\n",
    "dados_empresas[\"retorno_mensal\"] = dados_empresas.groupby(\"ticker\")[\"retorno_mensal\"].shift(-1)\n",
    "\n",
    "dados_empresas"
   ]
  },
  {
   "cell_type": "markdown",
   "id": "8a258c8c-824d-4038-939f-b3b914eee42e",
   "metadata": {},
   "source": [
    "# Passo 4: Filtrar liquidez."
   ]
  },
  {
   "cell_type": "code",
   "execution_count": null,
   "id": "c307a082-720e-4eec-9477-5557c2c75e06",
   "metadata": {},
   "outputs": [],
   "source": [
    "dados_empresas = dados_empresas[dados_empresas[\"volume_negociado\"] > 1000000]\n",
    "\n",
    "dados_empresas"
   ]
  },
  {
   "cell_type": "markdown",
   "id": "a8a99014-0e45-4aca-8df3-505603d570b0",
   "metadata": {},
   "source": [
    "# Passo 5: Criar o ranking dos indicadores."
   ]
  },
  {
   "cell_type": "code",
   "execution_count": null,
   "id": "21e9fbb1-0d0a-4703-b60e-db70a1c30875",
   "metadata": {},
   "outputs": [],
   "source": [
    "dados_empresas[\"ranking_ebit_ev\"] = dados_empresas.groupby(\"data\")[\"ebit_ev\"].rank(ascending = False)\n",
    "dados_empresas[\"ranking_roic\"] = dados_empresas.groupby(\"data\")[\"roic\"].rank(ascending = False)\n",
    "\n",
    "dados_empresas"
   ]
  },
  {
   "cell_type": "code",
   "execution_count": null,
   "id": "87e60685-6151-4358-8a18-62374ae40c41",
   "metadata": {},
   "outputs": [],
   "source": [
    "dados_empresas[\"ranking_final\"] = dados_empresas[\"ranking_ebit_ev\"] + dados_empresas[\"ranking_roic\"]\n",
    "dados_empresas[\"ranking_final\"] = dados_empresas.groupby(\"data\")[\"ranking_final\"].rank()\n",
    "\n",
    "dados_empresas"
   ]
  },
  {
   "cell_type": "markdown",
   "id": "b1609a41-d329-4e7f-856b-7d411d10d904",
   "metadata": {},
   "source": [
    "# Passo 6: Criar as carteiras. "
   ]
  },
  {
   "cell_type": "code",
   "execution_count": null,
   "id": "1516afcb-2bb2-456c-abbe-6e6a741c3764",
   "metadata": {},
   "outputs": [],
   "source": [
    "dados_empresas = dados_empresas[dados_empresas[\"ranking_final\"] <= 10]\n",
    "\n",
    "dados_empresas"
   ]
  },
  {
   "cell_type": "markdown",
   "id": "e0e299b9-48db-4879-8994-a79b1025f7eb",
   "metadata": {},
   "source": [
    "# Passo 7: Calcular a rentabilidade por carteira."
   ]
  },
  {
   "cell_type": "code",
   "execution_count": null,
   "id": "ed1d627c-4760-44c1-8da0-969ab410999a",
   "metadata": {},
   "outputs": [],
   "source": [
    "rentabilidades_carteiras = dados_empresas.groupby(\"data\")[\"retorno_mensal\"].mean()\n",
    "rentabilidades_carteiras = rentabilidades_carteiras.to_frame()\n",
    "\n",
    "rentabilidades_carteiras"
   ]
  },
  {
   "cell_type": "markdown",
   "id": "ad8a8ae8-4d7e-42e3-953c-d22d9fbd32cc",
   "metadata": {},
   "source": [
    "# Passo 8: Calcular a rentabilidade do modelo."
   ]
  },
  {
   "cell_type": "code",
   "execution_count": null,
   "id": "11cc2285-652d-4085-9280-ee2eea2d9e7b",
   "metadata": {},
   "outputs": [],
   "source": [
    "rentabilidades_carteiras[\"magic_formula\"] = (rentabilidades_carteiras[\"retorno_mensal\"] + 1).cumprod() - 1\n",
    "\n",
    "rentabilidades_carteiras = rentabilidades_carteiras.shift(1)\n",
    "\n",
    "rentabilidades_carteiras = rentabilidades_carteiras.dropna()\n",
    "\n",
    "rentabilidades_carteiras"
   ]
  },
  {
   "cell_type": "markdown",
   "id": "c946ee23-3964-4c17-8cc2-3f22d71acbb0",
   "metadata": {},
   "source": [
    "# Passo 9: Calcular a rentabilidade do ibovespa no mesmo período."
   ]
  },
  {
   "cell_type": "code",
   "execution_count": null,
   "id": "c071a61f-2d46-4357-bb5a-fca2d7bbec74",
   "metadata": {},
   "outputs": [],
   "source": [
    "ibov = pd.read_csv(\"ibov.csv\")\n",
    "\n",
    "ibov"
   ]
  },
  {
   "cell_type": "code",
   "execution_count": null,
   "id": "d35e408c-2e45-4ad1-a2d0-9250053a1bf4",
   "metadata": {},
   "outputs": [],
   "source": [
    "retornos_ibov = ibov[\"fechamento\"].pct_change().dropna()\n",
    "retorno_acum_ibov = (1 + retornos_ibov).cumprod() - 1\n",
    "rentabilidades_carteiras[\"ibovespa\"] = retorno_acum_ibov.values\n",
    "rentabilidades_carteiras = rentabilidades_carteiras.drop(\"retorno_mensal\", axis = 1)\n",
    "\n",
    "rentabilidades_carteiras"
   ]
  },
  {
   "cell_type": "markdown",
   "id": "3328edd3-a2b6-44b0-920a-6484ad5ed593",
   "metadata": {},
   "source": [
    "# Passo 10: Observar resultados de retorno."
   ]
  },
  {
   "cell_type": "code",
   "execution_count": null,
   "id": "aad1cf07-7a14-464b-ba13-63107b25aa7e",
   "metadata": {},
   "outputs": [],
   "source": [
    "qs.extend_pandas()\n",
    "\n",
    "rentabilidades_carteiras.index = pd.to_datetime(rentabilidades_carteiras.index)\n",
    "\n",
    "rentabilidades_carteiras"
   ]
  },
  {
   "cell_type": "code",
   "execution_count": null,
   "id": "b7200be3-28fb-467d-8df9-dd66557c2049",
   "metadata": {},
   "outputs": [],
   "source": [
    "rentabilidades_carteiras[\"magic_formula\"].plot_monthly_heatmap()\n",
    "rentabilidades_carteiras[\"ibovespa\"].plot_monthly_heatmap()"
   ]
  },
  {
   "cell_type": "code",
   "execution_count": null,
   "id": "f3a92392-1d40-4650-8e2d-708079df0374",
   "metadata": {},
   "outputs": [],
   "source": [
    "rentabilidades_carteiras.plot(figsize = (7, 4))"
   ]
  },
  {
   "cell_type": "markdown",
   "id": "fc59461b-163a-4879-8990-6a3b4ea6ab8f",
   "metadata": {},
   "source": [
    "# Passo 11 - Otimizar nosso modelo com outros indicadores. \n",
    "\n",
    "E se nós adicionássemos um indicador de momentum no modelo?"
   ]
  },
  {
   "cell_type": "markdown",
   "id": "6021b8b1-baee-4fdf-9cae-0143b262a5df",
   "metadata": {},
   "source": [
    "# Passo 12 - Observar métricas de risco, janelas móveis de retorno, eventos de estresse..."
   ]
  },
  {
   "cell_type": "code",
   "execution_count": null,
   "id": "25db0e25-4cd2-44c1-bedf-3864d413799a",
   "metadata": {},
   "outputs": [],
   "source": []
  },
  {
   "cell_type": "code",
   "execution_count": null,
   "id": "373d851c-075a-4497-9705-26f7b236d0ca",
   "metadata": {},
   "outputs": [],
   "source": []
  },
  {
   "cell_type": "code",
   "execution_count": null,
   "id": "53a8fca1-5ce0-4d9f-b99b-9bc8fdc5768f",
   "metadata": {},
   "outputs": [],
   "source": []
  },
  {
   "cell_type": "code",
   "execution_count": null,
   "id": "c26adc9a-798a-4e2e-980d-cadbfa1fb9cf",
   "metadata": {},
   "outputs": [],
   "source": []
  },
  {
   "cell_type": "code",
   "execution_count": null,
   "id": "e2154219-0709-490e-aab2-dcb5dbea1faf",
   "metadata": {},
   "outputs": [],
   "source": []
  },
  {
   "cell_type": "code",
   "execution_count": null,
   "id": "877135dc-72cb-4f57-ac1e-ef5243cd1084",
   "metadata": {},
   "outputs": [],
   "source": []
  },
  {
   "cell_type": "code",
   "execution_count": null,
   "id": "409faec3-8866-4b85-bb44-4b4c8f76c737",
   "metadata": {},
   "outputs": [],
   "source": []
  },
  {
   "cell_type": "code",
   "execution_count": null,
   "id": "8a3de458-6c53-4136-9486-9b9852a880d7",
   "metadata": {},
   "outputs": [],
   "source": []
  },
  {
   "cell_type": "code",
   "execution_count": null,
   "id": "a01ca22e-9e48-4e6c-a708-007914b6c7e7",
   "metadata": {},
   "outputs": [],
   "source": []
  },
  {
   "cell_type": "code",
   "execution_count": null,
   "id": "b3523bee-2c37-495c-b7cb-52da1e97128e",
   "metadata": {},
   "outputs": [],
   "source": []
  },
  {
   "cell_type": "code",
   "execution_count": null,
   "id": "938fdd51-fba5-4a7f-8f17-7bff0126df8a",
   "metadata": {},
   "outputs": [],
   "source": []
  },
  {
   "cell_type": "code",
   "execution_count": null,
   "id": "ac476d80-2bdb-4cc7-99dd-a076c973cfbb",
   "metadata": {},
   "outputs": [],
   "source": []
  }
 ],
 "metadata": {
  "kernelspec": {
   "display_name": "Python 3 (ipykernel)",
   "language": "python",
   "name": "python3"
  },
  "language_info": {
   "codemirror_mode": {
    "name": "ipython",
    "version": 3
   },
   "file_extension": ".py",
   "mimetype": "text/x-python",
   "name": "python",
   "nbconvert_exporter": "python",
   "pygments_lexer": "ipython3",
   "version": "3.11.7"
  },
  "widgets": {
   "application/vnd.jupyter.widget-state+json": {
    "state": {},
    "version_major": 2,
    "version_minor": 0
   }
  }
 },
 "nbformat": 4,
 "nbformat_minor": 5
}
